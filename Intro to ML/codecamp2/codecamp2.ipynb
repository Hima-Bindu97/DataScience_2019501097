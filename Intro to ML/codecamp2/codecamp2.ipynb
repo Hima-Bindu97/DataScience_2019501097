{
  "nbformat": 4,
  "nbformat_minor": 0,
  "metadata": {
    "colab": {
      "name": "codecamp2",
      "provenance": []
    },
    "kernelspec": {
      "name": "python3",
      "display_name": "Python 3"
    }
  },
  "cells": [
    {
      "cell_type": "code",
      "metadata": {
        "id": "ntsEofLOddNL",
        "outputId": "c58d612c-70eb-4bef-f713-21a5b9c5614e",
        "colab": {
          "resources": {
            "http://localhost:8080/nbextensions/google.colab/files.js": {
              "data": "Ly8gQ29weXJpZ2h0IDIwMTcgR29vZ2xlIExMQwovLwovLyBMaWNlbnNlZCB1bmRlciB0aGUgQXBhY2hlIExpY2Vuc2UsIFZlcnNpb24gMi4wICh0aGUgIkxpY2Vuc2UiKTsKLy8geW91IG1heSBub3QgdXNlIHRoaXMgZmlsZSBleGNlcHQgaW4gY29tcGxpYW5jZSB3aXRoIHRoZSBMaWNlbnNlLgovLyBZb3UgbWF5IG9idGFpbiBhIGNvcHkgb2YgdGhlIExpY2Vuc2UgYXQKLy8KLy8gICAgICBodHRwOi8vd3d3LmFwYWNoZS5vcmcvbGljZW5zZXMvTElDRU5TRS0yLjAKLy8KLy8gVW5sZXNzIHJlcXVpcmVkIGJ5IGFwcGxpY2FibGUgbGF3IG9yIGFncmVlZCB0byBpbiB3cml0aW5nLCBzb2Z0d2FyZQovLyBkaXN0cmlidXRlZCB1bmRlciB0aGUgTGljZW5zZSBpcyBkaXN0cmlidXRlZCBvbiBhbiAiQVMgSVMiIEJBU0lTLAovLyBXSVRIT1VUIFdBUlJBTlRJRVMgT1IgQ09ORElUSU9OUyBPRiBBTlkgS0lORCwgZWl0aGVyIGV4cHJlc3Mgb3IgaW1wbGllZC4KLy8gU2VlIHRoZSBMaWNlbnNlIGZvciB0aGUgc3BlY2lmaWMgbGFuZ3VhZ2UgZ292ZXJuaW5nIHBlcm1pc3Npb25zIGFuZAovLyBsaW1pdGF0aW9ucyB1bmRlciB0aGUgTGljZW5zZS4KCi8qKgogKiBAZmlsZW92ZXJ2aWV3IEhlbHBlcnMgZm9yIGdvb2dsZS5jb2xhYiBQeXRob24gbW9kdWxlLgogKi8KKGZ1bmN0aW9uKHNjb3BlKSB7CmZ1bmN0aW9uIHNwYW4odGV4dCwgc3R5bGVBdHRyaWJ1dGVzID0ge30pIHsKICBjb25zdCBlbGVtZW50ID0gZG9jdW1lbnQuY3JlYXRlRWxlbWVudCgnc3BhbicpOwogIGVsZW1lbnQudGV4dENvbnRlbnQgPSB0ZXh0OwogIGZvciAoY29uc3Qga2V5IG9mIE9iamVjdC5rZXlzKHN0eWxlQXR0cmlidXRlcykpIHsKICAgIGVsZW1lbnQuc3R5bGVba2V5XSA9IHN0eWxlQXR0cmlidXRlc1trZXldOwogIH0KICByZXR1cm4gZWxlbWVudDsKfQoKLy8gTWF4IG51bWJlciBvZiBieXRlcyB3aGljaCB3aWxsIGJlIHVwbG9hZGVkIGF0IGEgdGltZS4KY29uc3QgTUFYX1BBWUxPQURfU0laRSA9IDEwMCAqIDEwMjQ7CgpmdW5jdGlvbiBfdXBsb2FkRmlsZXMoaW5wdXRJZCwgb3V0cHV0SWQpIHsKICBjb25zdCBzdGVwcyA9IHVwbG9hZEZpbGVzU3RlcChpbnB1dElkLCBvdXRwdXRJZCk7CiAgY29uc3Qgb3V0cHV0RWxlbWVudCA9IGRvY3VtZW50LmdldEVsZW1lbnRCeUlkKG91dHB1dElkKTsKICAvLyBDYWNoZSBzdGVwcyBvbiB0aGUgb3V0cHV0RWxlbWVudCB0byBtYWtlIGl0IGF2YWlsYWJsZSBmb3IgdGhlIG5leHQgY2FsbAogIC8vIHRvIHVwbG9hZEZpbGVzQ29udGludWUgZnJvbSBQeXRob24uCiAgb3V0cHV0RWxlbWVudC5zdGVwcyA9IHN0ZXBzOwoKICByZXR1cm4gX3VwbG9hZEZpbGVzQ29udGludWUob3V0cHV0SWQpOwp9CgovLyBUaGlzIGlzIHJvdWdobHkgYW4gYXN5bmMgZ2VuZXJhdG9yIChub3Qgc3VwcG9ydGVkIGluIHRoZSBicm93c2VyIHlldCksCi8vIHdoZXJlIHRoZXJlIGFyZSBtdWx0aXBsZSBhc3luY2hyb25vdXMgc3RlcHMgYW5kIHRoZSBQeXRob24gc2lkZSBpcyBnb2luZwovLyB0byBwb2xsIGZvciBjb21wbGV0aW9uIG9mIGVhY2ggc3RlcC4KLy8gVGhpcyB1c2VzIGEgUHJvbWlzZSB0byBibG9jayB0aGUgcHl0aG9uIHNpZGUgb24gY29tcGxldGlvbiBvZiBlYWNoIHN0ZXAsCi8vIHRoZW4gcGFzc2VzIHRoZSByZXN1bHQgb2YgdGhlIHByZXZpb3VzIHN0ZXAgYXMgdGhlIGlucHV0IHRvIHRoZSBuZXh0IHN0ZXAuCmZ1bmN0aW9uIF91cGxvYWRGaWxlc0NvbnRpbnVlKG91dHB1dElkKSB7CiAgY29uc3Qgb3V0cHV0RWxlbWVudCA9IGRvY3VtZW50LmdldEVsZW1lbnRCeUlkKG91dHB1dElkKTsKICBjb25zdCBzdGVwcyA9IG91dHB1dEVsZW1lbnQuc3RlcHM7CgogIGNvbnN0IG5leHQgPSBzdGVwcy5uZXh0KG91dHB1dEVsZW1lbnQubGFzdFByb21pc2VWYWx1ZSk7CiAgcmV0dXJuIFByb21pc2UucmVzb2x2ZShuZXh0LnZhbHVlLnByb21pc2UpLnRoZW4oKHZhbHVlKSA9PiB7CiAgICAvLyBDYWNoZSB0aGUgbGFzdCBwcm9taXNlIHZhbHVlIHRvIG1ha2UgaXQgYXZhaWxhYmxlIHRvIHRoZSBuZXh0CiAgICAvLyBzdGVwIG9mIHRoZSBnZW5lcmF0b3IuCiAgICBvdXRwdXRFbGVtZW50Lmxhc3RQcm9taXNlVmFsdWUgPSB2YWx1ZTsKICAgIHJldHVybiBuZXh0LnZhbHVlLnJlc3BvbnNlOwogIH0pOwp9CgovKioKICogR2VuZXJhdG9yIGZ1bmN0aW9uIHdoaWNoIGlzIGNhbGxlZCBiZXR3ZWVuIGVhY2ggYXN5bmMgc3RlcCBvZiB0aGUgdXBsb2FkCiAqIHByb2Nlc3MuCiAqIEBwYXJhbSB7c3RyaW5nfSBpbnB1dElkIEVsZW1lbnQgSUQgb2YgdGhlIGlucHV0IGZpbGUgcGlja2VyIGVsZW1lbnQuCiAqIEBwYXJhbSB7c3RyaW5nfSBvdXRwdXRJZCBFbGVtZW50IElEIG9mIHRoZSBvdXRwdXQgZGlzcGxheS4KICogQHJldHVybiB7IUl0ZXJhYmxlPCFPYmplY3Q+fSBJdGVyYWJsZSBvZiBuZXh0IHN0ZXBzLgogKi8KZnVuY3Rpb24qIHVwbG9hZEZpbGVzU3RlcChpbnB1dElkLCBvdXRwdXRJZCkgewogIGNvbnN0IGlucHV0RWxlbWVudCA9IGRvY3VtZW50LmdldEVsZW1lbnRCeUlkKGlucHV0SWQpOwogIGlucHV0RWxlbWVudC5kaXNhYmxlZCA9IGZhbHNlOwoKICBjb25zdCBvdXRwdXRFbGVtZW50ID0gZG9jdW1lbnQuZ2V0RWxlbWVudEJ5SWQob3V0cHV0SWQpOwogIG91dHB1dEVsZW1lbnQuaW5uZXJIVE1MID0gJyc7CgogIGNvbnN0IHBpY2tlZFByb21pc2UgPSBuZXcgUHJvbWlzZSgocmVzb2x2ZSkgPT4gewogICAgaW5wdXRFbGVtZW50LmFkZEV2ZW50TGlzdGVuZXIoJ2NoYW5nZScsIChlKSA9PiB7CiAgICAgIHJlc29sdmUoZS50YXJnZXQuZmlsZXMpOwogICAgfSk7CiAgfSk7CgogIGNvbnN0IGNhbmNlbCA9IGRvY3VtZW50LmNyZWF0ZUVsZW1lbnQoJ2J1dHRvbicpOwogIGlucHV0RWxlbWVudC5wYXJlbnRFbGVtZW50LmFwcGVuZENoaWxkKGNhbmNlbCk7CiAgY2FuY2VsLnRleHRDb250ZW50ID0gJ0NhbmNlbCB1cGxvYWQnOwogIGNvbnN0IGNhbmNlbFByb21pc2UgPSBuZXcgUHJvbWlzZSgocmVzb2x2ZSkgPT4gewogICAgY2FuY2VsLm9uY2xpY2sgPSAoKSA9PiB7CiAgICAgIHJlc29sdmUobnVsbCk7CiAgICB9OwogIH0pOwoKICAvLyBXYWl0IGZvciB0aGUgdXNlciB0byBwaWNrIHRoZSBmaWxlcy4KICBjb25zdCBmaWxlcyA9IHlpZWxkIHsKICAgIHByb21pc2U6IFByb21pc2UucmFjZShbcGlja2VkUHJvbWlzZSwgY2FuY2VsUHJvbWlzZV0pLAogICAgcmVzcG9uc2U6IHsKICAgICAgYWN0aW9uOiAnc3RhcnRpbmcnLAogICAgfQogIH07CgogIGNhbmNlbC5yZW1vdmUoKTsKCiAgLy8gRGlzYWJsZSB0aGUgaW5wdXQgZWxlbWVudCBzaW5jZSBmdXJ0aGVyIHBpY2tzIGFyZSBub3QgYWxsb3dlZC4KICBpbnB1dEVsZW1lbnQuZGlzYWJsZWQgPSB0cnVlOwoKICBpZiAoIWZpbGVzKSB7CiAgICByZXR1cm4gewogICAgICByZXNwb25zZTogewogICAgICAgIGFjdGlvbjogJ2NvbXBsZXRlJywKICAgICAgfQogICAgfTsKICB9CgogIGZvciAoY29uc3QgZmlsZSBvZiBmaWxlcykgewogICAgY29uc3QgbGkgPSBkb2N1bWVudC5jcmVhdGVFbGVtZW50KCdsaScpOwogICAgbGkuYXBwZW5kKHNwYW4oZmlsZS5uYW1lLCB7Zm9udFdlaWdodDogJ2JvbGQnfSkpOwogICAgbGkuYXBwZW5kKHNwYW4oCiAgICAgICAgYCgke2ZpbGUudHlwZSB8fCAnbi9hJ30pIC0gJHtmaWxlLnNpemV9IGJ5dGVzLCBgICsKICAgICAgICBgbGFzdCBtb2RpZmllZDogJHsKICAgICAgICAgICAgZmlsZS5sYXN0TW9kaWZpZWREYXRlID8gZmlsZS5sYXN0TW9kaWZpZWREYXRlLnRvTG9jYWxlRGF0ZVN0cmluZygpIDoKICAgICAgICAgICAgICAgICAgICAgICAgICAgICAgICAgICAgJ24vYSd9IC0gYCkpOwogICAgY29uc3QgcGVyY2VudCA9IHNwYW4oJzAlIGRvbmUnKTsKICAgIGxpLmFwcGVuZENoaWxkKHBlcmNlbnQpOwoKICAgIG91dHB1dEVsZW1lbnQuYXBwZW5kQ2hpbGQobGkpOwoKICAgIGNvbnN0IGZpbGVEYXRhUHJvbWlzZSA9IG5ldyBQcm9taXNlKChyZXNvbHZlKSA9PiB7CiAgICAgIGNvbnN0IHJlYWRlciA9IG5ldyBGaWxlUmVhZGVyKCk7CiAgICAgIHJlYWRlci5vbmxvYWQgPSAoZSkgPT4gewogICAgICAgIHJlc29sdmUoZS50YXJnZXQucmVzdWx0KTsKICAgICAgfTsKICAgICAgcmVhZGVyLnJlYWRBc0FycmF5QnVmZmVyKGZpbGUpOwogICAgfSk7CiAgICAvLyBXYWl0IGZvciB0aGUgZGF0YSB0byBiZSByZWFkeS4KICAgIGxldCBmaWxlRGF0YSA9IHlpZWxkIHsKICAgICAgcHJvbWlzZTogZmlsZURhdGFQcm9taXNlLAogICAgICByZXNwb25zZTogewogICAgICAgIGFjdGlvbjogJ2NvbnRpbnVlJywKICAgICAgfQogICAgfTsKCiAgICAvLyBVc2UgYSBjaHVua2VkIHNlbmRpbmcgdG8gYXZvaWQgbWVzc2FnZSBzaXplIGxpbWl0cy4gU2VlIGIvNjIxMTU2NjAuCiAgICBsZXQgcG9zaXRpb24gPSAwOwogICAgd2hpbGUgKHBvc2l0aW9uIDwgZmlsZURhdGEuYnl0ZUxlbmd0aCkgewogICAgICBjb25zdCBsZW5ndGggPSBNYXRoLm1pbihmaWxlRGF0YS5ieXRlTGVuZ3RoIC0gcG9zaXRpb24sIE1BWF9QQVlMT0FEX1NJWkUpOwogICAgICBjb25zdCBjaHVuayA9IG5ldyBVaW50OEFycmF5KGZpbGVEYXRhLCBwb3NpdGlvbiwgbGVuZ3RoKTsKICAgICAgcG9zaXRpb24gKz0gbGVuZ3RoOwoKICAgICAgY29uc3QgYmFzZTY0ID0gYnRvYShTdHJpbmcuZnJvbUNoYXJDb2RlLmFwcGx5KG51bGwsIGNodW5rKSk7CiAgICAgIHlpZWxkIHsKICAgICAgICByZXNwb25zZTogewogICAgICAgICAgYWN0aW9uOiAnYXBwZW5kJywKICAgICAgICAgIGZpbGU6IGZpbGUubmFtZSwKICAgICAgICAgIGRhdGE6IGJhc2U2NCwKICAgICAgICB9LAogICAgICB9OwogICAgICBwZXJjZW50LnRleHRDb250ZW50ID0KICAgICAgICAgIGAke01hdGgucm91bmQoKHBvc2l0aW9uIC8gZmlsZURhdGEuYnl0ZUxlbmd0aCkgKiAxMDApfSUgZG9uZWA7CiAgICB9CiAgfQoKICAvLyBBbGwgZG9uZS4KICB5aWVsZCB7CiAgICByZXNwb25zZTogewogICAgICBhY3Rpb246ICdjb21wbGV0ZScsCiAgICB9CiAgfTsKfQoKc2NvcGUuZ29vZ2xlID0gc2NvcGUuZ29vZ2xlIHx8IHt9OwpzY29wZS5nb29nbGUuY29sYWIgPSBzY29wZS5nb29nbGUuY29sYWIgfHwge307CnNjb3BlLmdvb2dsZS5jb2xhYi5fZmlsZXMgPSB7CiAgX3VwbG9hZEZpbGVzLAogIF91cGxvYWRGaWxlc0NvbnRpbnVlLAp9Owp9KShzZWxmKTsK",
              "ok": true,
              "headers": [
                [
                  "content-type",
                  "application/javascript"
                ]
              ],
              "status": 200,
              "status_text": ""
            }
          },
          "base_uri": "https://localhost:8080/",
          "height": 108
        }
      },
      "source": [
        "import numpy as np\n",
        "import pandas as pd\n",
        "from sklearn import preprocessing\n",
        "from sklearn.preprocessing import OneHotEncoder\n",
        "from sklearn.impute import KNNImputer\n",
        "from matplotlib import pyplot as plt\n",
        "from sklearn.linear_model import Ridge\n",
        "from sklearn.linear_model import LinearRegression\n",
        "from sklearn.linear_model import LogisticRegression\n",
        "from sklearn import svm\n",
        "from sklearn.svm import SVC\n",
        "from sklearn.metrics import classification_report\n",
        "from sklearn.metrics import roc_auc_score\n",
        "from sklearn.metrics import roc_curve\n",
        "from sklearn.metrics import auc\n",
        "from sklearn.neural_network import MLPClassifier\n",
        "from sklearn.metrics import mean_squared_error as mserr\n",
        "from sklearn.model_selection import train_test_split\n",
        "from sklearn.decomposition import PCA\n",
        "import io\n",
        "from google.colab import files\n",
        "uploaded=files.upload()\n",
        "\n",
        "def readDataSets(train_path, test_path, predict_col, index_col = None):\n",
        "    if index_col == None:\n",
        "        trainx_df = pd.read_csv(train_path)\n",
        "        trainy_df = trainx_df[predict_col]\n",
        "        trainy_df.hist()\n",
        "        trainx_df.drop(predict_col,axis = 1,inplace = True)\n",
        "        testx_df = pd.read_csv(test_path)\n",
        "    else:\n",
        "        trainx_df = pd.read_csv(train_path,index_col = 'Id')\n",
        "        trainy_df = trainx_df[predict_col]\n",
        "        trainx_df.drop(predict_col,axis = 1,inplace = True)\n",
        "        testx_df = pd.read_csv(test_path,index_col='Id')\n",
        "    return trainx_df,trainy_df,testx_df"
      ],
      "execution_count": null,
      "outputs": [
        {
          "output_type": "display_data",
          "data": {
            "text/html": [
              "\n",
              "     <input type=\"file\" id=\"files-13b72444-3449-4ece-b40f-25ce8c4c652b\" name=\"files[]\" multiple disabled\n",
              "        style=\"border:none\" />\n",
              "     <output id=\"result-13b72444-3449-4ece-b40f-25ce8c4c652b\">\n",
              "      Upload widget is only available when the cell has been executed in the\n",
              "      current browser session. Please rerun this cell to enable.\n",
              "      </output>\n",
              "      <script src=\"/nbextensions/google.colab/files.js\"></script> "
            ],
            "text/plain": [
              "<IPython.core.display.HTML object>"
            ]
          },
          "metadata": {
            "tags": []
          }
        },
        {
          "output_type": "stream",
          "text": [
            "Saving marketing_test.csv to marketing_test.csv\n",
            "Saving marketing_training.csv to marketing_training.csv\n"
          ],
          "name": "stdout"
        }
      ]
    },
    {
      "cell_type": "code",
      "metadata": {
        "id": "-IiopWWcbCR7"
      },
      "source": [
        "def dropFeturesWithNullValuesGreaterThanALimit(trainx_df, testx_df, null_ratio = 0.3):\n",
        "    sample_size = len(trainx_df)\n",
        "    columns_with_null_values = [[col, float(trainx_df[col].isnull().sum())/float(sample_size)] for col in trainx_df.columns if trainx_df[col].isnull().sum()]\n",
        "    columns_to_drop = [x for (x,y) in columns_with_null_values if y > null_ratio]\n",
        "    trainx_df.drop(columns_to_drop, axis = 1, inplace = True)\n",
        "    testx_df.drop(columns_to_drop, axis = 1, inplace = True)\n",
        "    return trainx_df,testx_df"
      ],
      "execution_count": null,
      "outputs": []
    },
    {
      "cell_type": "code",
      "metadata": {
        "id": "7EDC-KSabIAF"
      },
      "source": [
        "def oneHotEncode(trainx_df,testx_df):\n",
        "    categorical_columns = [col for col in trainx_df.columns if trainx_df[col].dtype == object]\n",
        "    ordinal_columns = [col for col in trainx_df.columns if col not in categorical_columns]\n",
        "    dummy_row = list()\n",
        "    for col in trainx_df.columns:\n",
        "        if col in categorical_columns:\n",
        "            dummy_row.append(\"dummy\")\n",
        "        else:\n",
        "            dummy_row.append(\"\")\n",
        "    new_row = pd.DataFrame([dummy_row], columns = trainx_df.columns)\n",
        "    trainx_df = pd.concat([trainx_df,new_row], axis = 0, ignore_index = True)\n",
        "    testx_df = pd.concat([testx_df],axis = 0, ignore_index = True)\n",
        "    for col in categorical_columns:\n",
        "        trainx_df[col].fillna(value = \"dummy\", inplace = True)\n",
        "        testx_df[col].fillna(value = \"dummy\", inplace = True)\n",
        "    enc = OneHotEncoder(drop = 'first', sparse = False)\n",
        "    enc.fit(trainx_df[categorical_columns])\n",
        "    trainx_enc = pd.DataFrame(enc.transform(trainx_df[categorical_columns]))\n",
        "    testx_enc = pd.DataFrame(enc.transform(testx_df[categorical_columns]))\n",
        "    trainx_enc.columns = enc.get_feature_names(categorical_columns)\n",
        "    testx_enc.columns = enc.get_feature_names(categorical_columns)\n",
        "    trainx_df = pd.concat([trainx_df[ordinal_columns], trainx_enc], axis = 1, ignore_index = True)\n",
        "    testx_df = pd.concat([testx_df[ordinal_columns], testx_enc], axis = 1, ignore_index = True)\n",
        "    trainx_df.drop(trainx_df.tail(1).index, inplace = True)\n",
        "    return trainx_df,testx_df"
      ],
      "execution_count": null,
      "outputs": []
    },
    {
      "cell_type": "code",
      "metadata": {
        "id": "iNS3YBB4bKrP"
      },
      "source": [
        "def fillMissingValues(trainx_df,testx_df):\n",
        "    imputer = KNNImputer(n_neighbors = 2)\n",
        "    imputer.fit(trainx_df)\n",
        "    trainx_df_filled = imputer.transform(trainx_df)\n",
        "    trainx_df_filled = pd.DataFrame(trainx_df_filled, columns = trainx_df.columns)\n",
        "    testx_df_filled = imputer.transform(testx_df)\n",
        "    testx_df_filled = pd.DataFrame(testx_df_filled, columns = testx_df.columns)\n",
        "    testx_df_filled.reset_index(drop = True, inplace = True)\n",
        "    return trainx_df_filled,testx_df_filled"
      ],
      "execution_count": null,
      "outputs": []
    },
    {
      "cell_type": "code",
      "metadata": {
        "id": "DdOBumvSbNs1"
      },
      "source": [
        "def scaleFetures(trainx_df,testx_df,scale = 'Standard'):\n",
        "    if scale == 'Standard':\n",
        "        scaler = preprocessing.StandardScaler().fit(trainx_df)\n",
        "        trainx_df = scaler.transform(trainx_df)\n",
        "        testx_df = scaler.transform(testx_df)\n",
        "    elif scale == 'MinMax':\n",
        "        scaler = preprocessing.MinMaxScaler().fit(trainx_df)\n",
        "        trainx_df = scaler.transform(trainx_df)\n",
        "        testx_df = scaler.transform(testx_df)\n",
        "    return trainx_df,testx_df"
      ],
      "execution_count": null,
      "outputs": []
    },
    {
      "cell_type": "code",
      "metadata": {
        "id": "n28Q4POJbQvw"
      },
      "source": [
        "def findPrincipalComponents(trainx_df, testx_df):\n",
        "    pca = PCA().fit(trainx_df)\n",
        "    itemindex = np.where(np.cumsum(pca.explained_variance_ratio_) > 0.9999)\n",
        "    print('np.cumsum(pca.explained_variance_ratio_)', np.cumsum(pca.explained_variance_ratio_))\n",
        "    #Plotting the Cumulative Summation of the Explained Variance\n",
        "    plt.figure(np.cumsum(pca.explained_variance_ratio_)[0])\n",
        "    plt.plot(np.cumsum(pca.explained_variance_ratio_))\n",
        "    plt.xlabel('Number of Components')\n",
        "    plt.ylabel('Variance (%)') \n",
        "    #for each component\n",
        "    plt.title('Principal Components Explained Variance')\n",
        "    plt.show()\n",
        "    pca_std = PCA(n_components=itemindex[0][0]).fit(trainx_df)\n",
        "    trainx_df = pca_std.transform(trainx_df)\n",
        "    testx_df = pca_std.transform(testx_df)\n",
        "    return trainx_df, testx_df"
      ],
      "execution_count": null,
      "outputs": []
    },
    {
      "cell_type": "code",
      "metadata": {
        "id": "No-nuXATbTQw"
      },
      "source": [
        "def encodeLabelsToZeroAndOne(trainy_df):\n",
        "    le = preprocessing.LabelEncoder()\n",
        "    trainy_df = le.fit_transform(trainy_df)\n",
        "    return trainy_df"
      ],
      "execution_count": null,
      "outputs": []
    },
    {
      "cell_type": "code",
      "metadata": {
        "id": "e3Lh-EIAbWFb"
      },
      "source": [
        "def splitTrainAndTest(trainx_df, trainy_df, split_ratio = 0.3):\n",
        "    X_train, X_test, y_train, y_test = train_test_split(trainx_df, trainy_df.values.ravel(), test_size = split_ratio, random_state = 42)\n",
        "    return X_train, X_test, y_train, y_test"
      ],
      "execution_count": null,
      "outputs": []
    },
    {
      "cell_type": "code",
      "metadata": {
        "id": "f99NoD2ObYTR"
      },
      "source": [
        "def getLogisticRegressionModel(X_train, y_train, reg_par = 0.00001, max_iterations = 1000000):\n",
        "    logisticreg = LogisticRegression(class_weight = \"balanced\", C = reg_par, max_iter = max_iterations)\n",
        "    logisticreg.fit(X_train, y_train)\n",
        "    return logisticreg"
      ],
      "execution_count": null,
      "outputs": []
    },
    {
      "cell_type": "code",
      "metadata": {
        "id": "SbQCLvF6bZua"
      },
      "source": [
        "def getSVClassificationModel(X_train, y_train, reg_par = 1.0, deg = 3, ker = 'rbf'):\n",
        "    svcmodel = SVC(C = reg_par, degree = deg, kernel=ker)\n",
        "    svcmodel.fit(X_train, y_train)\n",
        "    return svcmodel"
      ],
      "execution_count": null,
      "outputs": []
    },
    {
      "cell_type": "code",
      "metadata": {
        "id": "5zRyOLGUbcG5"
      },
      "source": [
        "def getBackPropagationModel(X_train, y_train,sol = 'lbfgs', reg_par = 1e-5, hid_layer_sizes = (5, ), random_state = 1, maxi_iter = 1000):\n",
        "    nn_bp_model = MLPClassifier(solver = sol, alpha = reg_par, hidden_layer_sizes = hid_layer_sizes, random_state = 1, max_iter = maxi_iter)\n",
        "    nn_bp_model.fit(X_train, y_train)\n",
        "    return nn_bp_model"
      ],
      "execution_count": null,
      "outputs": []
    },
    {
      "cell_type": "code",
      "metadata": {
        "id": "md8IGR9HNpIc"
      },
      "source": [
        "def getKmeansClusteringModel(X_train, y_train, n_clusts = 8, n_init = 10, max_iter = 300, tol = 0.0001):\n",
        "        KmeansModel = KMeans(n_clusters = n_clusts, random_state = 0).fit(X_train)\n",
        "        return KmeansModel"
      ],
      "execution_count": null,
      "outputs": []
    },
    {
      "cell_type": "code",
      "metadata": {
        "id": "bHYzCWqRbef4"
      },
      "source": [
        "def getScores(model,X_train, X_test, y_train, y_test):\n",
        "    '''THRESHOLD = 0.5\n",
        "    yhat = np.where(model.predict_proba(X_test)[:,1] > THRESHOLD, 1, 0)'''\n",
        "    yprobs = model.predict_log_proba(X_test)\n",
        "    yprobs = yprobs[:,1]\n",
        "    ras = roc_auc_score(y_test,yprobs,average = 'weighted')\n",
        "    print(ras)\n",
        "    yhat = model.predict(X_test)\n",
        "    \n",
        "    #pd.DataFrame(yhat).to_csv(model)\n",
        "    TP, TN, FP, FN = 0,0,0,0\n",
        "    for i in range(len(yhat)):\n",
        "        if yhat[i] == 0:\n",
        "            if y_test[i] == 0:\n",
        "                TN += 1\n",
        "            else:\n",
        "                FN += 1\n",
        "        else:\n",
        "            if y_test[i] == 1:\n",
        "                TP += 1\n",
        "            else:\n",
        "                FP += 1\n",
        "    print(classification_report(y_test, yhat))\n",
        "    print(classification_report(y_test,yhat,output_dict = True)['1']['precision'], classification_report(y_test, yhat, output_dict = True)['1']['recall'])\n",
        "    fpr, tpr, threshold = roc_curve(y_test, yprobs)\n",
        "    roc_auc = auc(fpr, tpr)\n",
        "    plt.title('Receiver Operating Characteristic')\n",
        "    plt.plot(fpr, tpr, 'b', label = 'AUC = %0.2f' % roc_auc)\n",
        "    plt.legend(loc = 'lower right')\n",
        "    plt.plot([0, 1], [0, 1],'r--')\n",
        "    plt.xlim([0, 1])\n",
        "    plt.ylim([0, 1])\n",
        "    plt.ylabel('True Positive Rate')\n",
        "    plt.xlabel('False Positive Rate')\n",
        "    plt.show()\n",
        "    return([TP, TN, FP, FN, TP/(TP + FN), TN/(TN + FP)])"
      ],
      "execution_count": null,
      "outputs": []
    },
    {
      "cell_type": "code",
      "metadata": {
        "id": "UWJqcvhQbjM6"
      },
      "source": [
        "def getScoresForSVC(model, X_train, X_test, y_train, y_test):\n",
        "    yhat = model.predict(X_test)  \n",
        "    #pd.DataFrame(yhat).to_csv(model)\n",
        "    TP, TN, FP, FN = 0, 0, 0, 0\n",
        "    for i in range(len(yhat)):\n",
        "        if yhat[i] == 0:\n",
        "            if y_test[i] == 0:\n",
        "                TN += 1\n",
        "            else:\n",
        "                FN += 1\n",
        "        else:\n",
        "            if y_test[i] == 1:\n",
        "                TP += 1\n",
        "            else:\n",
        "                FP += 1\n",
        "    print(classification_report(y_test, yhat))\n",
        "    print(classification_report(y_test, yhat, output_dict=True)['1']['precision'], classification_report(y_test, yhat, output_dict = True)['1']['recall'])\n",
        "    return([TP, TN, FP, FN, TP/(TP + FN), TN/(TN + FP)])"
      ],
      "execution_count": null,
      "outputs": []
    }
  ]
}